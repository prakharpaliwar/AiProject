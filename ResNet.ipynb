{
  "cells": [
    {
      "cell_type": "code",
      "execution_count": 3,
      "id": "48bc0acf-cfa9-4682-999f-041d3d012d05",
      "metadata": {
        "colab": {
          "base_uri": "https://localhost:8080/"
        },
        "id": "48bc0acf-cfa9-4682-999f-041d3d012d05",
        "outputId": "d2533d4b-7153-4ab6-dc40-2e4144119d4f"
      },
      "outputs": [
        {
          "output_type": "stream",
          "name": "stdout",
          "text": [
            "Requirement already satisfied: torch in /usr/local/lib/python3.10/dist-packages (2.2.1+cu121)\n",
            "Requirement already satisfied: torchvision in /usr/local/lib/python3.10/dist-packages (0.17.1+cu121)\n",
            "Requirement already satisfied: matplotlib in /usr/local/lib/python3.10/dist-packages (3.7.1)\n",
            "Collecting efficientnet_pytorch\n",
            "  Downloading efficientnet_pytorch-0.7.1.tar.gz (21 kB)\n",
            "  Preparing metadata (setup.py) ... \u001b[?25l\u001b[?25hdone\n",
            "Requirement already satisfied: filelock in /usr/local/lib/python3.10/dist-packages (from torch) (3.14.0)\n",
            "Requirement already satisfied: typing-extensions>=4.8.0 in /usr/local/lib/python3.10/dist-packages (from torch) (4.11.0)\n",
            "Requirement already satisfied: sympy in /usr/local/lib/python3.10/dist-packages (from torch) (1.12)\n",
            "Requirement already satisfied: networkx in /usr/local/lib/python3.10/dist-packages (from torch) (3.3)\n",
            "Requirement already satisfied: jinja2 in /usr/local/lib/python3.10/dist-packages (from torch) (3.1.4)\n",
            "Requirement already satisfied: fsspec in /usr/local/lib/python3.10/dist-packages (from torch) (2023.6.0)\n",
            "Collecting nvidia-cuda-nvrtc-cu12==12.1.105 (from torch)\n",
            "  Using cached nvidia_cuda_nvrtc_cu12-12.1.105-py3-none-manylinux1_x86_64.whl (23.7 MB)\n",
            "Collecting nvidia-cuda-runtime-cu12==12.1.105 (from torch)\n",
            "  Using cached nvidia_cuda_runtime_cu12-12.1.105-py3-none-manylinux1_x86_64.whl (823 kB)\n",
            "Collecting nvidia-cuda-cupti-cu12==12.1.105 (from torch)\n",
            "  Using cached nvidia_cuda_cupti_cu12-12.1.105-py3-none-manylinux1_x86_64.whl (14.1 MB)\n",
            "Collecting nvidia-cudnn-cu12==8.9.2.26 (from torch)\n",
            "  Using cached nvidia_cudnn_cu12-8.9.2.26-py3-none-manylinux1_x86_64.whl (731.7 MB)\n",
            "Collecting nvidia-cublas-cu12==12.1.3.1 (from torch)\n",
            "  Using cached nvidia_cublas_cu12-12.1.3.1-py3-none-manylinux1_x86_64.whl (410.6 MB)\n",
            "Collecting nvidia-cufft-cu12==11.0.2.54 (from torch)\n",
            "  Using cached nvidia_cufft_cu12-11.0.2.54-py3-none-manylinux1_x86_64.whl (121.6 MB)\n",
            "Collecting nvidia-curand-cu12==10.3.2.106 (from torch)\n",
            "  Using cached nvidia_curand_cu12-10.3.2.106-py3-none-manylinux1_x86_64.whl (56.5 MB)\n",
            "Collecting nvidia-cusolver-cu12==11.4.5.107 (from torch)\n",
            "  Using cached nvidia_cusolver_cu12-11.4.5.107-py3-none-manylinux1_x86_64.whl (124.2 MB)\n",
            "Collecting nvidia-cusparse-cu12==12.1.0.106 (from torch)\n",
            "  Using cached nvidia_cusparse_cu12-12.1.0.106-py3-none-manylinux1_x86_64.whl (196.0 MB)\n",
            "Collecting nvidia-nccl-cu12==2.19.3 (from torch)\n",
            "  Using cached nvidia_nccl_cu12-2.19.3-py3-none-manylinux1_x86_64.whl (166.0 MB)\n",
            "Collecting nvidia-nvtx-cu12==12.1.105 (from torch)\n",
            "  Using cached nvidia_nvtx_cu12-12.1.105-py3-none-manylinux1_x86_64.whl (99 kB)\n",
            "Requirement already satisfied: triton==2.2.0 in /usr/local/lib/python3.10/dist-packages (from torch) (2.2.0)\n",
            "Collecting nvidia-nvjitlink-cu12 (from nvidia-cusolver-cu12==11.4.5.107->torch)\n",
            "  Using cached nvidia_nvjitlink_cu12-12.4.127-py3-none-manylinux2014_x86_64.whl (21.1 MB)\n",
            "Requirement already satisfied: numpy in /usr/local/lib/python3.10/dist-packages (from torchvision) (1.25.2)\n",
            "Requirement already satisfied: pillow!=8.3.*,>=5.3.0 in /usr/local/lib/python3.10/dist-packages (from torchvision) (9.4.0)\n",
            "Requirement already satisfied: contourpy>=1.0.1 in /usr/local/lib/python3.10/dist-packages (from matplotlib) (1.2.1)\n",
            "Requirement already satisfied: cycler>=0.10 in /usr/local/lib/python3.10/dist-packages (from matplotlib) (0.12.1)\n",
            "Requirement already satisfied: fonttools>=4.22.0 in /usr/local/lib/python3.10/dist-packages (from matplotlib) (4.51.0)\n",
            "Requirement already satisfied: kiwisolver>=1.0.1 in /usr/local/lib/python3.10/dist-packages (from matplotlib) (1.4.5)\n",
            "Requirement already satisfied: packaging>=20.0 in /usr/local/lib/python3.10/dist-packages (from matplotlib) (24.0)\n",
            "Requirement already satisfied: pyparsing>=2.3.1 in /usr/local/lib/python3.10/dist-packages (from matplotlib) (3.1.2)\n",
            "Requirement already satisfied: python-dateutil>=2.7 in /usr/local/lib/python3.10/dist-packages (from matplotlib) (2.8.2)\n",
            "Requirement already satisfied: six>=1.5 in /usr/local/lib/python3.10/dist-packages (from python-dateutil>=2.7->matplotlib) (1.16.0)\n",
            "Requirement already satisfied: MarkupSafe>=2.0 in /usr/local/lib/python3.10/dist-packages (from jinja2->torch) (2.1.5)\n",
            "Requirement already satisfied: mpmath>=0.19 in /usr/local/lib/python3.10/dist-packages (from sympy->torch) (1.3.0)\n",
            "Building wheels for collected packages: efficientnet_pytorch\n",
            "  Building wheel for efficientnet_pytorch (setup.py) ... \u001b[?25l\u001b[?25hdone\n",
            "  Created wheel for efficientnet_pytorch: filename=efficientnet_pytorch-0.7.1-py3-none-any.whl size=16429 sha256=8c1ab02b3485682475e0593df1a48c1b0d75d1e5f4150a149f994fc2e2d9158d\n",
            "  Stored in directory: /root/.cache/pip/wheels/03/3f/e9/911b1bc46869644912bda90a56bcf7b960f20b5187feea3baf\n",
            "Successfully built efficientnet_pytorch\n",
            "Installing collected packages: nvidia-nvtx-cu12, nvidia-nvjitlink-cu12, nvidia-nccl-cu12, nvidia-curand-cu12, nvidia-cufft-cu12, nvidia-cuda-runtime-cu12, nvidia-cuda-nvrtc-cu12, nvidia-cuda-cupti-cu12, nvidia-cublas-cu12, nvidia-cusparse-cu12, nvidia-cudnn-cu12, nvidia-cusolver-cu12, efficientnet_pytorch\n",
            "Successfully installed efficientnet_pytorch-0.7.1 nvidia-cublas-cu12-12.1.3.1 nvidia-cuda-cupti-cu12-12.1.105 nvidia-cuda-nvrtc-cu12-12.1.105 nvidia-cuda-runtime-cu12-12.1.105 nvidia-cudnn-cu12-8.9.2.26 nvidia-cufft-cu12-11.0.2.54 nvidia-curand-cu12-10.3.2.106 nvidia-cusolver-cu12-11.4.5.107 nvidia-cusparse-cu12-12.1.0.106 nvidia-nccl-cu12-2.19.3 nvidia-nvjitlink-cu12-12.4.127 nvidia-nvtx-cu12-12.1.105\n"
          ]
        }
      ],
      "source": [
        "pip install torch torchvision matplotlib efficientnet_pytorch\n"
      ]
    },
    {
      "cell_type": "code",
      "execution_count": 7,
      "id": "42cd02a8-fdf3-4d6b-83f0-030a82dd2e54",
      "metadata": {
        "id": "42cd02a8-fdf3-4d6b-83f0-030a82dd2e54"
      },
      "outputs": [],
      "source": [
        "import torch\n",
        "import torchvision\n",
        "import torchvision.transforms as transforms\n",
        "import torch.nn as nn\n",
        "import torch.optim as optim\n",
        "from efficientnet_pytorch import EfficientNet\n",
        "from torchvision.models import resnet50\n",
        "import matplotlib.pyplot as plt\n"
      ]
    },
    {
      "cell_type": "code",
      "execution_count": 8,
      "id": "9a83c4d9-60f0-4a8f-826f-2d9b3b8650f7",
      "metadata": {
        "colab": {
          "base_uri": "https://localhost:8080/"
        },
        "id": "9a83c4d9-60f0-4a8f-826f-2d9b3b8650f7",
        "outputId": "15b73a58-34b6-4881-c763-ede2c3a43e58"
      },
      "outputs": [
        {
          "output_type": "stream",
          "name": "stdout",
          "text": [
            "Files already downloaded and verified\n",
            "Files already downloaded and verified\n"
          ]
        }
      ],
      "source": [
        "transform_train = transforms.Compose([\n",
        "    transforms.Resize(224),\n",
        "    transforms.RandomHorizontalFlip(),\n",
        "    transforms.RandomRotation(10),\n",
        "    transforms.ToTensor(),\n",
        "    transforms.Normalize([0.485, 0.456, 0.406], [0.229, 0.224, 0.225])\n",
        "])\n",
        "\n",
        "transform_test = transforms.Compose([\n",
        "    transforms.Resize(224),\n",
        "    transforms.ToTensor(),\n",
        "    transforms.Normalize([0.485, 0.456, 0.406], [0.229, 0.224, 0.225])\n",
        "])\n",
        "\n",
        "# Loading and splitting the dataset\n",
        "trainset = torchvision.datasets.CIFAR100(root='./data', train=True, download=True, transform=transform_train)\n",
        "testset = torchvision.datasets.CIFAR100(root='./data', train=False, download=True, transform=transform_test)\n",
        "\n",
        "total_train = len(trainset)\n",
        "val_size = int(0.1 * total_train)\n",
        "train_size = total_train - val_size\n",
        "train_dataset, val_dataset = torch.utils.data.random_split(trainset, [train_size, val_size])\n",
        "\n",
        "trainloader = torch.utils.data.DataLoader(train_dataset, batch_size=128, shuffle=True, num_workers=2)\n",
        "valloader = torch.utils.data.DataLoader(val_dataset, batch_size=128, shuffle=False, num_workers=2)\n",
        "testloader = torch.utils.data.DataLoader(testset, batch_size=100, shuffle=False, num_workers=2)\n"
      ]
    },
    {
      "cell_type": "code",
      "execution_count": 9,
      "id": "5a88f8b2-689f-4e50-b3fd-7adb56176d20",
      "metadata": {
        "colab": {
          "base_uri": "https://localhost:8080/"
        },
        "id": "5a88f8b2-689f-4e50-b3fd-7adb56176d20",
        "outputId": "fe049f09-e4a8-424b-82e0-d6a8def44722"
      },
      "outputs": [
        {
          "output_type": "stream",
          "name": "stderr",
          "text": [
            "/usr/local/lib/python3.10/dist-packages/torchvision/models/_utils.py:208: UserWarning: The parameter 'pretrained' is deprecated since 0.13 and may be removed in the future, please use 'weights' instead.\n",
            "  warnings.warn(\n",
            "/usr/local/lib/python3.10/dist-packages/torchvision/models/_utils.py:223: UserWarning: Arguments other than a weight enum or `None` for 'weights' are deprecated since 0.13 and may be removed in the future. The current behavior is equivalent to passing `weights=ResNet50_Weights.IMAGENET1K_V1`. You can also use `weights=ResNet50_Weights.DEFAULT` to get the most up-to-date weights.\n",
            "  warnings.warn(msg)\n",
            "Downloading: \"https://download.pytorch.org/models/resnet50-0676ba61.pth\" to /root/.cache/torch/hub/checkpoints/resnet50-0676ba61.pth\n",
            "100%|██████████| 97.8M/97.8M [00:00<00:00, 127MB/s]\n"
          ]
        }
      ],
      "source": [
        "class ResNet(nn.Module):\n",
        "    def __init__(self):\n",
        "        super(ResNet, self).__init__()\n",
        "        self.resnet = resnet50(pretrained=True)\n",
        "        # Adjust for CIFAR-100 class count\n",
        "        self.resnet.fc = nn.Linear(self.resnet.fc.in_features, 100)\n",
        "\n",
        "    def forward(self, x):\n",
        "        return self.resnet(x)\n",
        "\n",
        "model = ResNet()"
      ]
    },
    {
      "cell_type": "code",
      "execution_count": 10,
      "id": "4764dcce-594a-49ab-9db3-67ffec9d4298",
      "metadata": {
        "id": "4764dcce-594a-49ab-9db3-67ffec9d4298"
      },
      "outputs": [],
      "source": [
        "criterion = nn.CrossEntropyLoss()\n",
        "optimizer = optim.SGD(model.parameters(), lr=0.01, momentum=0.9)\n"
      ]
    },
    {
      "cell_type": "code",
      "execution_count": 11,
      "id": "5320fcd1-bb8f-4427-a83b-3ff4a6c45c9e",
      "metadata": {
        "id": "5320fcd1-bb8f-4427-a83b-3ff4a6c45c9e"
      },
      "outputs": [],
      "source": [
        "def train(model, trainloader, criterion, optimizer, device):\n",
        "    model.train()\n",
        "    running_loss = 0.0\n",
        "    for i, (inputs, labels) in enumerate(trainloader, 0):\n",
        "        inputs, labels = inputs.to(device), labels.to(device)\n",
        "        optimizer.zero_grad()\n",
        "        outputs = model(inputs)\n",
        "        loss = criterion(outputs, labels)\n",
        "        loss.backward()\n",
        "        optimizer.step()\n",
        "        running_loss += loss.item()\n",
        "        if i % 100 == 99:\n",
        "            print(f'[Epoch, Batch]: [{epoch+1}, {i+1}], Loss: {running_loss / 100:.3f}')\n",
        "            running_loss = 0.0\n",
        "\n",
        "def validate(model, valloader, criterion, device):\n",
        "    model.eval()\n",
        "    val_loss = 0.0\n",
        "    correct = 0\n",
        "    total = 0\n",
        "    with torch.no_grad():\n",
        "        for inputs, labels in valloader:\n",
        "            inputs, labels = inputs.to(device), labels.to(device)\n",
        "            outputs = model(inputs)\n",
        "            loss = criterion(outputs, labels)\n",
        "            val_loss += loss.item()\n",
        "            _, predicted = torch.max(outputs.data, 1)\n",
        "            total += labels.size(0)\n",
        "            correct += (predicted == labels).sum().item()\n",
        "    accuracy = 100. * correct / total\n",
        "    print(f'Validation Loss: {val_loss / len(valloader):.3f}, Accuracy: {accuracy:.2f}%')\n",
        "    return val_loss / len(valloader), accuracy\n"
      ]
    },
    {
      "cell_type": "code",
      "execution_count": 12,
      "id": "2770f2db-c458-468e-b639-db228467f65e",
      "metadata": {
        "colab": {
          "base_uri": "https://localhost:8080/"
        },
        "id": "2770f2db-c458-468e-b639-db228467f65e",
        "outputId": "b04c1807-e405-4787-f808-3967fe0ccc9e"
      },
      "outputs": [
        {
          "output_type": "stream",
          "name": "stderr",
          "text": [
            "/usr/lib/python3.10/multiprocessing/popen_fork.py:66: RuntimeWarning: os.fork() was called. os.fork() is incompatible with multithreaded code, and JAX is multithreaded, so this will likely lead to a deadlock.\n",
            "  self.pid = os.fork()\n"
          ]
        },
        {
          "output_type": "stream",
          "name": "stdout",
          "text": [
            "[Epoch, Batch]: [1, 100], Loss: 2.627\n",
            "[Epoch, Batch]: [1, 200], Loss: 1.087\n",
            "[Epoch, Batch]: [1, 300], Loss: 0.959\n",
            "Validation Loss: 0.989, Accuracy: 71.54%\n",
            "[Epoch, Batch]: [2, 100], Loss: 0.698\n",
            "[Epoch, Batch]: [2, 200], Loss: 0.694\n",
            "[Epoch, Batch]: [2, 300], Loss: 0.695\n",
            "Validation Loss: 0.890, Accuracy: 74.74%\n",
            "[Epoch, Batch]: [3, 100], Loss: 0.484\n",
            "[Epoch, Batch]: [3, 200], Loss: 0.486\n",
            "[Epoch, Batch]: [3, 300], Loss: 0.512\n",
            "Validation Loss: 0.864, Accuracy: 75.64%\n",
            "[Epoch, Batch]: [4, 100], Loss: 0.361\n",
            "[Epoch, Batch]: [4, 200], Loss: 0.358\n",
            "[Epoch, Batch]: [4, 300], Loss: 0.393\n",
            "Validation Loss: 0.818, Accuracy: 77.62%\n",
            "[Epoch, Batch]: [5, 100], Loss: 0.263\n",
            "[Epoch, Batch]: [5, 200], Loss: 0.277\n",
            "[Epoch, Batch]: [5, 300], Loss: 0.307\n",
            "Validation Loss: 0.813, Accuracy: 78.56%\n",
            "[Epoch, Batch]: [6, 100], Loss: 0.205\n",
            "[Epoch, Batch]: [6, 200], Loss: 0.223\n",
            "[Epoch, Batch]: [6, 300], Loss: 0.234\n",
            "Validation Loss: 0.823, Accuracy: 78.02%\n",
            "[Epoch, Batch]: [7, 100], Loss: 0.166\n",
            "[Epoch, Batch]: [7, 200], Loss: 0.164\n",
            "[Epoch, Batch]: [7, 300], Loss: 0.190\n",
            "Validation Loss: 0.839, Accuracy: 77.84%\n",
            "[Epoch, Batch]: [8, 100], Loss: 0.127\n",
            "[Epoch, Batch]: [8, 200], Loss: 0.136\n",
            "[Epoch, Batch]: [8, 300], Loss: 0.151\n",
            "Validation Loss: 0.766, Accuracy: 80.14%\n",
            "[Epoch, Batch]: [9, 100], Loss: 0.101\n",
            "[Epoch, Batch]: [9, 200], Loss: 0.106\n",
            "[Epoch, Batch]: [9, 300], Loss: 0.119\n",
            "Validation Loss: 0.807, Accuracy: 80.26%\n",
            "[Epoch, Batch]: [10, 100], Loss: 0.084\n",
            "[Epoch, Batch]: [10, 200], Loss: 0.094\n",
            "[Epoch, Batch]: [10, 300], Loss: 0.086\n",
            "Validation Loss: 0.846, Accuracy: 79.02%\n"
          ]
        }
      ],
      "source": [
        "device = torch.device(\"cuda\" if torch.cuda.is_available() else \"cpu\")\n",
        "model.to(device)\n",
        "\n",
        "early_stopping_patience = 5\n",
        "early_stopping_counter = 0\n",
        "min_val_loss = float('inf')\n",
        "\n",
        "for epoch in range(10):  # Adjust the number of epochs as needed\n",
        "    train(model, trainloader, criterion, optimizer, device)\n",
        "    val_loss, _ = validate(model, valloader, criterion, device)\n",
        "    if val_loss < min_val_loss:\n",
        "        min_val_loss = val_loss\n",
        "        torch.save(model.state_dict(), 'best_model.pth')\n",
        "        early_stopping_counter = 0\n",
        "    else:\n",
        "        early_stopping_counter += 1\n",
        "        if early_stopping_counter >= early_stopping_patience:\n",
        "            print(\"Early stopping triggered.\")\n",
        "            break\n"
      ]
    },
    {
      "cell_type": "code",
      "source": [
        "for epoch in range(10):  # Adjust the number of epochs as needed\n",
        "    train(model, trainloader, criterion, optimizer, device)\n",
        "    val_loss, _ = validate(model, valloader, criterion, device)\n",
        "    if val_loss < min_val_loss:\n",
        "        min_val_loss = val_loss\n",
        "        torch.save(model.state_dict(), 'best_model.pth')\n",
        "        early_stopping_counter = 0\n",
        "    else:\n",
        "        early_stopping_counter += 1\n",
        "        if early_stopping_counter >= early_stopping_patience:\n",
        "            print(\"Early stopping triggered.\")\n",
        "            break"
      ],
      "metadata": {
        "colab": {
          "base_uri": "https://localhost:8080/"
        },
        "id": "wCruSrC1U6lE",
        "outputId": "5e6892bf-e525-4246-9462-f4f3f1deca32"
      },
      "id": "wCruSrC1U6lE",
      "execution_count": 14,
      "outputs": [
        {
          "output_type": "stream",
          "name": "stdout",
          "text": [
            "[Epoch, Batch]: [1, 100], Loss: 0.087\n",
            "[Epoch, Batch]: [1, 200], Loss: 0.102\n",
            "[Epoch, Batch]: [1, 300], Loss: 0.109\n",
            "Validation Loss: 0.790, Accuracy: 80.04%\n",
            "[Epoch, Batch]: [2, 100], Loss: 0.087\n",
            "[Epoch, Batch]: [2, 200], Loss: 0.082\n",
            "[Epoch, Batch]: [2, 300], Loss: 0.099\n",
            "Validation Loss: 0.793, Accuracy: 80.82%\n",
            "[Epoch, Batch]: [3, 100], Loss: 0.065\n",
            "[Epoch, Batch]: [3, 200], Loss: 0.070\n",
            "[Epoch, Batch]: [3, 300], Loss: 0.075\n",
            "Validation Loss: 0.833, Accuracy: 80.34%\n",
            "Early stopping triggered.\n"
          ]
        }
      ]
    },
    {
      "cell_type": "code",
      "execution_count": 15,
      "id": "0b139831-f539-4daf-9a65-3634212a4289",
      "metadata": {
        "colab": {
          "base_uri": "https://localhost:8080/"
        },
        "id": "0b139831-f539-4daf-9a65-3634212a4289",
        "outputId": "b37bc9e6-3ad8-4400-f06e-09abde51e4d0"
      },
      "outputs": [
        {
          "output_type": "stream",
          "name": "stdout",
          "text": [
            "Accuracy of the network on the 10000 test images: 81 %\n"
          ]
        }
      ],
      "source": [
        "def evaluate():\n",
        "    model.load_state_dict(torch.load('best_model.pth'))\n",
        "    model.eval()\n",
        "    correct = 0\n",
        "    total = 0\n",
        "    with torch.no_grad():\n",
        "        for data in testloader:\n",
        "            images, labels = data\n",
        "            images, labels = images.to(device), labels.to(device)\n",
        "            outputs = model(images)\n",
        "            _, predicted = torch.max(outputs.data, 1)\n",
        "            total += labels.size(0)\n",
        "            correct += (predicted == labels).sum().item()\n",
        "    accuracy = 100 * correct / total\n",
        "    print('Accuracy of the network on the 10000 test images: %d %%' % accuracy)\n",
        "\n",
        "evaluate()"
      ]
    }
  ],
  "metadata": {
    "kernelspec": {
      "display_name": "Python 3",
      "name": "python3"
    },
    "language_info": {
      "codemirror_mode": {
        "name": "ipython",
        "version": 3
      },
      "file_extension": ".py",
      "mimetype": "text/x-python",
      "name": "python",
      "nbconvert_exporter": "python",
      "pygments_lexer": "ipython3",
      "version": "3.12.3"
    },
    "colab": {
      "provenance": [],
      "gpuType": "T4"
    },
    "accelerator": "GPU"
  },
  "nbformat": 4,
  "nbformat_minor": 5
}